{
 "cells": [
  {
   "cell_type": "markdown",
   "id": "eb2460e4",
   "metadata": {},
   "source": [
    "**<font color='blue'>Aprendiendo a trabajar con texto, string en python</font>**\n",
    "\n"
   ]
  },
  {
   "cell_type": "markdown",
   "id": "347a78e9",
   "metadata": {},
   "source": [
    "**<span style=\"color:green;\">filtra los valores que comienzan por PA en la columna codigo postal</span>**\n"
   ]
  },
  {
   "cell_type": "code",
   "execution_count": null,
   "id": "70331a69",
   "metadata": {},
   "outputs": [],
   "source": [
    "import pandas as pd\n",
    "\n",
    "# Creamos un DataFrame de ejemplo\n",
    "data = {'ciudad': ['Lima', 'Arequipa', 'Trujillo', 'Piura'],\n",
    "        'código postal': ['PA145', 'PE321', 'PA205', 'PE408']}\n",
    "df = pd.DataFrame(data)\n",
    "\n",
    "\n"
   ]
  },
  {
   "cell_type": "code",
   "execution_count": 12,
   "id": "5c3ae671",
   "metadata": {},
   "outputs": [],
   "source": [
    "df_filtrado = df[df['código postal'].str.startswith('PA')]"
   ]
  },
  {
   "cell_type": "code",
   "execution_count": 13,
   "id": "e8b8ced2",
   "metadata": {},
   "outputs": [
    {
     "data": {
      "text/html": [
       "<div>\n",
       "<style scoped>\n",
       "    .dataframe tbody tr th:only-of-type {\n",
       "        vertical-align: middle;\n",
       "    }\n",
       "\n",
       "    .dataframe tbody tr th {\n",
       "        vertical-align: top;\n",
       "    }\n",
       "\n",
       "    .dataframe thead th {\n",
       "        text-align: right;\n",
       "    }\n",
       "</style>\n",
       "<table border=\"1\" class=\"dataframe\">\n",
       "  <thead>\n",
       "    <tr style=\"text-align: right;\">\n",
       "      <th></th>\n",
       "      <th>ciudad</th>\n",
       "      <th>código postal</th>\n",
       "    </tr>\n",
       "  </thead>\n",
       "  <tbody>\n",
       "    <tr>\n",
       "      <th>0</th>\n",
       "      <td>Lima</td>\n",
       "      <td>PA145</td>\n",
       "    </tr>\n",
       "    <tr>\n",
       "      <th>2</th>\n",
       "      <td>Trujillo</td>\n",
       "      <td>PA205</td>\n",
       "    </tr>\n",
       "  </tbody>\n",
       "</table>\n",
       "</div>"
      ],
      "text/plain": [
       "     ciudad código postal\n",
       "0      Lima         PA145\n",
       "2  Trujillo         PA205"
      ]
     },
     "execution_count": 13,
     "metadata": {},
     "output_type": "execute_result"
    }
   ],
   "source": [
    "df_filtrado"
   ]
  },
  {
   "cell_type": "markdown",
   "id": "ae54f46f",
   "metadata": {},
   "source": [
    "## Filtrar las filas que contienen \"mining\" en la columna \"texto\"\n",
    "\n",
    "\n",
    "\n",
    "\n",
    "\n",
    "**<span style=\"color:green;\">Con case:ignorar las mayúsculas/minúsculas al hacer la búsqueda, puedes agregar el argumento case=False a \n",
    "la función str.contains().</span>**"
   ]
  },
  {
   "cell_type": "code",
   "execution_count": null,
   "id": "c9832604",
   "metadata": {},
   "outputs": [],
   "source": [
    "import pandas as pd\n",
    "\n",
    "# Crear un DataFrame de ejemplo\n",
    "data = {'texto': ['La minería es una industria importante', \n",
    "                  'El equipo de minería es muy caro', \n",
    "                  'La agricultura es más rentable que la minería']}\n",
    "df = pd.DataFrame(data)\n",
    "\n",
    "# Filtrar las filas que contienen \"mining\" en la columna \"texto\" sin tener en cuenta las mayúsculas/minúsculas\n",
    "df_filtrado = df[df['texto'].str.contains('mining', case=False)]\n",
    "\n",
    "# Mostrar el DataFrame filtrado\n",
    "print(df_filtrado)\n"
   ]
  },
  {
   "cell_type": "code",
   "execution_count": null,
   "id": "b0670081",
   "metadata": {},
   "outputs": [],
   "source": [
    " eliminar los ceros a la izquierda de una columna numérica en un dataframe en Python"
   ]
  },
  {
   "cell_type": "markdown",
   "id": "42dc5aca",
   "metadata": {},
   "source": [
    "\n",
    "**<span style=\"color:green;\"> Eliminar los ceros a la izquierda de una columna numérica en un dataframe en Python .</span>**"
   ]
  },
  {
   "cell_type": "markdown",
   "id": "ea9dae70",
   "metadata": {},
   "source": [
    " puedes utilizar el método lstrip junto con la función apply para aplicar la eliminación a cada elemento de la columna."
   ]
  },
  {
   "cell_type": "code",
   "execution_count": 18,
   "id": "9e58bace",
   "metadata": {},
   "outputs": [
    {
     "data": {
      "text/html": [
       "<div>\n",
       "<style scoped>\n",
       "    .dataframe tbody tr th:only-of-type {\n",
       "        vertical-align: middle;\n",
       "    }\n",
       "\n",
       "    .dataframe tbody tr th {\n",
       "        vertical-align: top;\n",
       "    }\n",
       "\n",
       "    .dataframe thead th {\n",
       "        text-align: right;\n",
       "    }\n",
       "</style>\n",
       "<table border=\"1\" class=\"dataframe\">\n",
       "  <thead>\n",
       "    <tr style=\"text-align: right;\">\n",
       "      <th></th>\n",
       "      <th>numeros</th>\n",
       "    </tr>\n",
       "  </thead>\n",
       "  <tbody>\n",
       "    <tr>\n",
       "      <th>0</th>\n",
       "      <td>000123</td>\n",
       "    </tr>\n",
       "    <tr>\n",
       "      <th>1</th>\n",
       "      <td>045610</td>\n",
       "    </tr>\n",
       "    <tr>\n",
       "      <th>2</th>\n",
       "      <td>078950</td>\n",
       "    </tr>\n",
       "    <tr>\n",
       "      <th>3</th>\n",
       "      <td>010140</td>\n",
       "    </tr>\n",
       "  </tbody>\n",
       "</table>\n",
       "</div>"
      ],
      "text/plain": [
       "  numeros\n",
       "0  000123\n",
       "1  045610\n",
       "2  078950\n",
       "3  010140"
      ]
     },
     "execution_count": 18,
     "metadata": {},
     "output_type": "execute_result"
    }
   ],
   "source": [
    "import pandas as pd\n",
    "\n",
    "# Crear un dataframe de ejemplo\n",
    "df = pd.DataFrame({'numeros': ['000123', '045610', '078950', '010140']})\n",
    "df"
   ]
  },
  {
   "cell_type": "code",
   "execution_count": 16,
   "id": "42b1fa4e",
   "metadata": {},
   "outputs": [
    {
     "name": "stdout",
     "output_type": "stream",
     "text": [
      "  numeros\n",
      "0     123\n",
      "1   45610\n",
      "2   78950\n",
      "3   10140\n"
     ]
    }
   ],
   "source": [
    "# Eliminar los ceros a la izquierda de la columna 'numeros'\n",
    "df['numeros'] = df['numeros'].apply(lambda x: x.lstrip('0'))\n",
    "\n",
    "# Imprimir el dataframe resultante\n",
    "print(df)\n"
   ]
  },
  {
   "cell_type": "markdown",
   "id": "1b32a6e2",
   "metadata": {},
   "source": [
    "##### Reemplazar en una columna que contiene una palabra por otra cadena ( palabra)**\n",
    "\n",
    "\n",
    "\n",
    "**<span style=\"color:green;\">columna \"Ciudad\" hay palabras que contienen \n",
    "\"PA\" en mayúsculas. Para reemplazarlas por \"ID\", podemos usar \n",
    "la función replace() de la siguiente manera:\n",
    "</span>**\n"
   ]
  },
  {
   "cell_type": "code",
   "execution_count": 30,
   "id": "b3f8e6a1",
   "metadata": {},
   "outputs": [
    {
     "name": "stdout",
     "output_type": "stream",
     "text": [
      "  Nombre  Edad     Ciudad\n",
      "0    Ana    23      PAris\n",
      "1   Juan    35     madrid\n",
      "2  Pedro    41   PAmplona\n",
      "3  María    29  BarceLOna\n"
     ]
    }
   ],
   "source": [
    "import pandas as pd\n",
    "\n",
    "datos = {'Nombre': ['Ana', 'Juan', 'Pedro', 'María'],\n",
    "         'Edad': [23, 35, 41, 29],\n",
    "         'Ciudad': ['PAris', 'madrid', 'PAmplona', 'BarceLOna']}\n",
    "\n",
    "df = pd.DataFrame(datos)\n",
    "print(df)\n"
   ]
  },
  {
   "cell_type": "markdown",
   "id": "64793db6",
   "metadata": {},
   "source": [
    "En este caso, **regex=True** es un parámetro opcional en el método replace() de pandas que \n",
    "indica que la cadena de búsqueda 'PA' es una expresión regular en lugar de una cadena literal.\n",
    "\n",
    "Una expresión regular (también conocida como regex) es una secuencia de caracteres que define un\n",
    "patrón de búsqueda. Al establecer regex=True, pandas buscará la cadena 'PA' como un patrón regex y \n",
    "reemplazará todas las coincidencias que encuentre en la columna \n",
    "'Ciudad'"
   ]
  },
  {
   "cell_type": "code",
   "execution_count": 23,
   "id": "671018f6",
   "metadata": {},
   "outputs": [
    {
     "name": "stdout",
     "output_type": "stream",
     "text": [
      "  Nombre  Edad     Ciudad\n",
      "0    Ana    23      IDris\n",
      "1   Juan    35     madrid\n",
      "2  Pedro    41   IDmplona\n",
      "3  María    29  BarceLOna\n"
     ]
    }
   ],
   "source": [
    "df['Ciudad'] = df['Ciudad'].replace('PA', 'ID', regex=True)\n",
    "print(df)\n"
   ]
  },
  {
   "cell_type": "code",
   "execution_count": 31,
   "id": "b7f50ec2",
   "metadata": {},
   "outputs": [
    {
     "name": "stdout",
     "output_type": "stream",
     "text": [
      "  Nombre  Edad     Ciudad\n",
      "0    Ana    23         ID\n",
      "1   Juan    35     madrid\n",
      "2  Pedro    41         ID\n",
      "3  María    29  BarceLOna\n"
     ]
    }
   ],
   "source": [
    "import pandas as pd\n",
    "\n",
    "\n",
    "\n",
    "# Reemplazar cualquier valor en la columna \"Ciudad\" que contenga \"PA\" con \"ID\"\n",
    "df.loc[df['Ciudad'].str.contains('PA'), 'Ciudad'] = 'ID'\n",
    "\n",
    "# Imprimir el DataFrame actualizado\n",
    "print(df)\n"
   ]
  },
  {
   "cell_type": "code",
   "execution_count": null,
   "id": "a4b5b226",
   "metadata": {},
   "outputs": [],
   "source": [
    "\n",
    "\n",
    "\n",
    "df['Ciudad'] = df['Ciudad'].str.replace('PA', 'ID')\n",
    "print(df)\n"
   ]
  },
  {
   "cell_type": "markdown",
   "id": "09c233c7",
   "metadata": {},
   "source": [
    "## Otra manera de hacer lo mismo ( lo anterior)\n"
   ]
  },
  {
   "cell_type": "code",
   "execution_count": 37,
   "id": "a10aebef",
   "metadata": {},
   "outputs": [
    {
     "name": "stdout",
     "output_type": "stream",
     "text": [
      "  Nombre  Edad     Ciudad\n",
      "0    Ana    23      PAris\n",
      "1   Juan    35     madrid\n",
      "2  Pedro    41   PAmplona\n",
      "3  María    29  BarceLOna\n"
     ]
    }
   ],
   "source": [
    "import pandas as pd\n",
    "\n",
    "datos = {'Nombre': ['Ana', 'Juan', 'Pedro', 'María'],\n",
    "         'Edad': [23, 35, 41, 29],\n",
    "         'Ciudad': ['PAris', 'madrid', 'PAmplona', 'BarceLOna']}\n",
    "\n",
    "df = pd.DataFrame(datos)\n",
    "print(df)\n",
    "\n"
   ]
  },
  {
   "cell_type": "markdown",
   "id": "8835ae40",
   "metadata": {},
   "source": [
    "En lugar de utilizar el método replace() de Pandas con expresiones regulares, también podrías \n",
    "utilizar el método str.replace() de Pandas para reemplazar los valores de la columna \"Ciudad\" \n",
    "por un valor específico."
   ]
  },
  {
   "cell_type": "markdown",
   "id": "6c38f987",
   "metadata": {},
   "source": [
    "La función **str.replace()** es un método de Python que se utiliza para reemplazar todas las ocurrencias \n",
    "de una subcadena dentro de una cadena por otra subcadena especificada."
   ]
  },
  {
   "cell_type": "code",
   "execution_count": 38,
   "id": "2e0d8ce8",
   "metadata": {},
   "outputs": [
    {
     "name": "stdout",
     "output_type": "stream",
     "text": [
      "  Nombre  Edad     Ciudad\n",
      "0    Ana    23      IDris\n",
      "1   Juan    35     madrid\n",
      "2  Pedro    41   IDmplona\n",
      "3  María    29  BarceLOna\n"
     ]
    }
   ],
   "source": [
    "df['Ciudad'] = df['Ciudad'].str.replace('PA', 'ID')\n",
    "print(df)\n"
   ]
  },
  {
   "cell_type": "markdown",
   "id": "6caef5b2",
   "metadata": {},
   "source": [
    "Concatenar 2 columnas de un dataframe"
   ]
  },
  {
   "cell_type": "markdown",
   "id": "95ce1402",
   "metadata": {},
   "source": [
    "Supongamos que tienes un dataframe llamado df con columnas nombre y apellido, y quieres crear una nueva columna nombre_completo que contenga la concatenación de ambas:"
   ]
  },
  {
   "cell_type": "code",
   "execution_count": 39,
   "id": "8ed01b91",
   "metadata": {},
   "outputs": [],
   "source": [
    "import pandas as pd\n",
    "\n",
    "# Creamos un ejemplo de dataframe\n",
    "df = pd.DataFrame({\n",
    "    'nombre': ['Juan', 'María', 'Pedro'],\n",
    "    'apellido': ['Pérez', 'Gómez', 'Sánchez']\n",
    "})\n",
    "\n"
   ]
  },
  {
   "cell_type": "markdown",
   "id": "a9e0ddd0",
   "metadata": {},
   "source": [
    "**<span style=\"color:green;\">\n",
    "Concatenar 2 columnas de dataframe\n",
    "</span>**"
   ]
  },
  {
   "cell_type": "markdown",
   "id": "b444bfe9",
   "metadata": {},
   "source": [
    "Supongamos que tienes un dataframe llamado df con columnas nombre y apellido, y quieres crear una nueva columna nombre_completo que contenga la concatenación de ambas:"
   ]
  },
  {
   "cell_type": "markdown",
   "id": "88aff42c",
   "metadata": {},
   "source": [
    "**sep=' ': ** Esto especifica que queremos concatenar los valores en las columnas \"nombre\" y \"apellido\" usando un espacio como separador."
   ]
  },
  {
   "cell_type": "markdown",
   "id": "3e03d593",
   "metadata": {},
   "source": [
    "**.str:**  Esto convierte los valores de la columna en cadenas, lo que nos permite usar métodos de manipulación de cadenas.\n",
    ".cat: Este es un método de cadena en Pandas que concatena cadenas."
   ]
  }
 ],
 "metadata": {
  "kernelspec": {
   "display_name": "quashTest",
   "language": "python",
   "name": "quashtest"
  },
  "language_info": {
   "codemirror_mode": {
    "name": "ipython",
    "version": 3
   },
   "file_extension": ".py",
   "mimetype": "text/x-python",
   "name": "python",
   "nbconvert_exporter": "python",
   "pygments_lexer": "ipython3",
   "version": "3.7.11"
  }
 },
 "nbformat": 4,
 "nbformat_minor": 5
}
