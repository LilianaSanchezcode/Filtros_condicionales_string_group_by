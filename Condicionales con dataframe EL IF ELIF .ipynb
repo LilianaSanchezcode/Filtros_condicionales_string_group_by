{
 "cells": [
  {
   "cell_type": "markdown",
   "id": "c2c12144",
   "metadata": {},
   "source": [
    "PRÁCTICAS DE CONDICIONALES (IF ELSE ELIF, CON METODO APPLY) EN PYTHON"
   ]
  },
  {
   "cell_type": "markdown",
   "id": "cda96185",
   "metadata": {},
   "source": [
    "EJERCICIO  1:"
   ]
  },
  {
   "cell_type": "markdown",
   "id": "a3bcf09d",
   "metadata": {},
   "source": [
    "**Usa bucle for:**"
   ]
  },
  {
   "cell_type": "markdown",
   "id": "d55e6e9c",
   "metadata": {},
   "source": [
    "###### Supongamos que tenemos un dataframe \"ventas\" con información de ventas de productos, \n",
    "y queremos crear una nueva columna \"rentable\" que indique si cada venta fue rentable o no.\n",
    "___\n",
    "- Podemos hacerlo utilizando la instrucción \"if\" y \"else\" dentro de un loop \"for\" para iterar sobre cada fila del dataframe y evaluar una condición basada en \n",
    "el valor de una columna existente. Por ejemplo:"
   ]
  },
  {
   "cell_type": "code",
   "execution_count": 4,
   "id": "65ea8c14",
   "metadata": {},
   "outputs": [],
   "source": [
    "import pandas as pd\n",
    "\n",
    "# Crear dataframe de ejemplo\n",
    "ventas = pd.DataFrame({\n",
    "    'producto': ['A', 'B', 'C', 'D', 'E'],\n",
    "    'precio': [100, 200, 150, 300, 250],\n",
    "    'costo': [70, 150, 120, 250, 200],\n",
    "    'cantidad': [10, 5, 8, 3, 6]\n",
    "})\n",
    "\n",
    "# calculo de ganancia\n",
    "ventas['ganancia'] = ventas['precio'] - ventas['costo']"
   ]
  },
  {
   "cell_type": "code",
   "execution_count": 5,
   "id": "f2219959",
   "metadata": {},
   "outputs": [
    {
     "name": "stdout",
     "output_type": "stream",
     "text": [
      "  producto  precio  costo  cantidad  ganancia\n",
      "0        A     100     70        10        30\n",
      "1        B     200    150         5        50\n",
      "2        C     150    120         8        30\n",
      "3        D     300    250         3        50\n",
      "4        E     250    200         6        50\n"
     ]
    }
   ],
   "source": [
    "print(ventas)"
   ]
  },
  {
   "cell_type": "code",
   "execution_count": 6,
   "id": "5f838e6f",
   "metadata": {},
   "outputs": [
    {
     "name": "stdout",
     "output_type": "stream",
     "text": [
      "  producto  precio  costo  cantidad  ganancia rentable\n",
      "0        A     100     70        10        30       No\n",
      "1        B     200    150         5        50       Sí\n",
      "2        C     150    120         8        30       No\n",
      "3        D     300    250         3        50       Sí\n",
      "4        E     250    200         6        50       Sí\n"
     ]
    }
   ],
   "source": [
    "# Crear columna vacia \"rentable\"\n",
    "ventas['rentable'] = ''\n",
    "\n",
    "# Iterar sobre cada fila del dataframe\n",
    "for index, row in ventas.iterrows():\n",
    "    # Calcular la ganancia por unidad\n",
    "    ganancia = row['precio'] - row['costo']\n",
    "    # Asignar 'Sí' o 'No' a la columna \"rentable\" según la ganancia por unidad\n",
    "    if ganancia >= 50:\n",
    "        ventas.at[index, 'rentable'] = 'Sí'\n",
    "    else:\n",
    "        ventas.at[index, 'rentable'] = 'No'\n",
    "\n",
    "# Imprimir el dataframe con la columna \"rentable\" agregada\n",
    "print(ventas)\n"
   ]
  },
  {
   "cell_type": "markdown",
   "id": "4bd38f6d",
   "metadata": {},
   "source": [
    "Lo que se esta haciendo: \n",
    "    \n",
    "- iteramos sobre cada fila del dataframe utilizando el método \"iterrows()\" de Pandas. \n",
    "\n",
    "\n",
    "\n",
    "\n",
    "___\n",
    "- Dentro del loop \"for\", calculamos la ganancia por unidad **(precio - costo)** para cada venta y utilizamos una instrucción \"if\" para evaluar si la ganancia por unidad es mayor o igual a 50. \n",
    "\n",
    "   1. Si lo es, asignamos el valor 'Sí' a la columna \"rentable\" para esa fila; \n",
    "   \n",
    "   2. De lo contrario, asignamos el valor 'No'.\n",
    "\n",
    "\n",
    "\n",
    "\n",
    "___\n",
    "- Finalmente, imprimimos el dataframe con la columna \"ganancia\"  y  \"rentable\" agregada.\n",
    "\n",
    "   Cada fila de la columna \"rentable\" indica si la venta correspondiente fue rentable ('Sí') o no ('No')."
   ]
  },
  {
   "cell_type": "markdown",
   "id": "aaf16f66",
   "metadata": {},
   "source": [
    "EJERCICIO 2:"
   ]
  },
  {
   "cell_type": "markdown",
   "id": "56b3dff0",
   "metadata": {},
   "source": [
    "**Usando Funcion  def ( adentro el if else elif), y aplicando la funcion Def a la data mediante \n",
    "función apply**"
   ]
  },
  {
   "cell_type": "markdown",
   "id": "4f86fd85",
   "metadata": {},
   "source": [
    "Por ejemplo, si queremos asignar el nivel de salario de cada empleado de acuerdo a la \n",
    "siguiente lógica:\n",
    "\n",
    "- Salario menor a 25000: \"Bajo\"\n",
    "- Salario entre 25000 y 34999: \"Medio\"\n",
    "- Salario mayor o igual a 35000: \"Alto\""
   ]
  },
  {
   "cell_type": "code",
   "execution_count": 11,
   "id": "5529b77d",
   "metadata": {},
   "outputs": [
    {
     "name": "stdout",
     "output_type": "stream",
     "text": [
      "  nombre  salario\n",
      "0    Ana    25000\n",
      "1  Pedro    30000\n",
      "2   Luis    20000\n",
      "3  María    40000\n",
      "4   José    50000\n"
     ]
    }
   ],
   "source": [
    "import pandas as pd\n",
    "\n",
    "# Crear dataframe de ejemplo\n",
    "empleados = pd.DataFrame({\n",
    "    'nombre': ['Ana', 'Pedro', 'Luis', 'María', 'José'],\n",
    "    'salario': [25000, 30000, 20000, 40000, 50000]\n",
    "})\n",
    "\n",
    "print(empleados)\n"
   ]
  },
  {
   "cell_type": "code",
   "execution_count": 12,
   "id": "f756ec96",
   "metadata": {},
   "outputs": [],
   "source": [
    "# Definir función que asigna el nivel de salario de acuerdo a ciertas condiciones\n",
    "def asignar_nivel(salario):\n",
    "    if salario < 25000:\n",
    "        return \"Bajo\"\n",
    "    elif salario >= 25000 and salario <= 34999:\n",
    "        return \"Medio\"\n",
    "    else:\n",
    "        return \"Alto\"\n",
    "\n"
   ]
  },
  {
   "cell_type": "code",
   "execution_count": 15,
   "id": "097c858d",
   "metadata": {},
   "outputs": [
    {
     "name": "stdout",
     "output_type": "stream",
     "text": [
      "  nombre  salario  nivel\n",
      "0    Ana    25000  Medio\n",
      "1  Pedro    30000  Medio\n",
      "2   Luis    20000   Bajo\n",
      "3  María    40000   Alto\n",
      "4   José    50000   Alto\n"
     ]
    }
   ],
   "source": [
    "\n",
    "\n",
    "# Aplicar la función a la columna \"salario\" del dataframe para crear la columna \"nivel\"\n",
    "empleados['nivel'] = empleados['salario'].apply(asignar_nivel)\n",
    "\n",
    "# Imprimir el dataframe con la columna \"nivel\" agregada\n",
    "print(empleados)"
   ]
  },
  {
   "cell_type": "markdown",
   "id": "88a1bfb6",
   "metadata": {},
   "source": [
    "1.Definimos una función asignar_nivel() que asigna el nivel de salario de acuerdo a ciertas \n",
    "condiciones. \n",
    "- Dentro de esta función, utilizamos condicionales if-elif-else para determinar el nivel \n",
    "de salario de acuerdo a la lógica que especificamos.\n",
    "___\n",
    "2.Después, utilizamos el :\n",
    "\n",
    "- método apply() \n",
    "De pandas para aplicar la **función asignar_nivel()** a la columna\n",
    "\"salario\" del dataframe \"empleados\" y crear la columna \"nivel\". La función se aplica a cada elemento de la columna \"salario\" y devuelve el nivel correspondiente, que se almacena en la columna \"nivel\".\n",
    "___\n",
    "3-., imprimimos el dataframe con la columna \"nivel\" agregada."
   ]
  },
  {
   "cell_type": "markdown",
   "id": "3f27c20b",
   "metadata": {},
   "source": [
    "EJERCICIO 3:"
   ]
  },
  {
   "cell_type": "markdown",
   "id": "a8a65d5c",
   "metadata": {},
   "source": [
    "Por ejemplo, si queremos asignar el nivel de salario de cada empleado de acuerdo a la siguiente lógica:\n",
    "\n",
    "- Salario menor a 25000: \"Bajo\"\n",
    "- Salario entre 25000 y 34999: \"Medio\"\n",
    "-  mayor o igual a 35000: \"Alto\""
   ]
  },
  {
   "cell_type": "code",
   "execution_count": 19,
   "id": "b43aa20e",
   "metadata": {},
   "outputs": [
    {
     "name": "stdout",
     "output_type": "stream",
     "text": [
      "  nombre  salario  nivel\n",
      "0    Ana    25000  Medio\n",
      "1  Pedro    30000  Medio\n",
      "2   Luis    20000   Bajo\n",
      "3  María    40000   Alto\n",
      "4   José    50000   Alto\n"
     ]
    }
   ],
   "source": [
    "import pandas as pd\n",
    "\n",
    "# DATAFRAME\n",
    "empleados = pd.DataFrame({\n",
    "    'nombre': ['Ana', 'Pedro', 'Luis', 'María', 'José'],\n",
    "    'salario': [25000, 30000, 20000, 40000, 50000]\n",
    "})\n",
    "\n",
    "# Aplicar if-else-elif a cada fila del dataframe utilizando apply y una función lambda\n",
    "empleados['nivel'] = empleados['salario'].apply(lambda x: \"Bajo\"\n",
    "                                                if x < 25000 else \"Medio\" if x < 35000 else \"Alto\")\n",
    "\n",
    "# Imprimir el dataframe con la columna \"nivel\" agregada\n",
    "print(empleados)\n"
   ]
  },
  {
   "cell_type": "markdown",
   "id": "70ffdc4b",
   "metadata": {},
   "source": [
    "1. Utilizamos la función apply() junto con una función lambda:\n",
    "\n",
    "- para aplicar la lógica de los condicionales al dataframe de manera más simplificada. \n",
    "___\n",
    "2. En la función lambda, simplemente evaluamos :\n",
    "- Si el salario es menor que 25000 y, en ese caso, asignamos el valor \"Bajo\" a la columna \"nivel\". \n",
    "___\n",
    "- Si el salario es mayor o igual a 25000 y menor a 35000, asignamos el valor \"Medio\", y en caso \n",
    "contrario, asignamos \"Alto\"."
   ]
  },
  {
   "cell_type": "code",
   "execution_count": null,
   "id": "b6febc2a",
   "metadata": {},
   "outputs": [],
   "source": []
  },
  {
   "cell_type": "code",
   "execution_count": null,
   "id": "6d9e44c7",
   "metadata": {},
   "outputs": [],
   "source": []
  },
  {
   "cell_type": "code",
   "execution_count": null,
   "id": "ed8aeb97",
   "metadata": {},
   "outputs": [],
   "source": []
  }
 ],
 "metadata": {
  "kernelspec": {
   "display_name": "quashTest",
   "language": "python",
   "name": "quashtest"
  },
  "language_info": {
   "codemirror_mode": {
    "name": "ipython",
    "version": 3
   },
   "file_extension": ".py",
   "mimetype": "text/x-python",
   "name": "python",
   "nbconvert_exporter": "python",
   "pygments_lexer": "ipython3",
   "version": "3.7.11"
  }
 },
 "nbformat": 4,
 "nbformat_minor": 5
}
